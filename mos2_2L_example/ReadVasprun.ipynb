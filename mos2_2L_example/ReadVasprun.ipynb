{
 "cells": [
  {
   "cell_type": "code",
   "execution_count": null,
   "metadata": {},
   "outputs": [],
   "source": [
    "import pymatgen as pmg\n",
    "\n",
    "print(pmg.__version__)"
   ]
  },
  {
   "cell_type": "code",
   "execution_count": 8,
   "metadata": {},
   "outputs": [],
   "source": [
    "from pymatgen.io.vasp.outputs import Vasprun,Poscar"
   ]
  },
  {
   "cell_type": "code",
   "execution_count": 10,
   "metadata": {},
   "outputs": [
    {
     "name": "stderr",
     "output_type": "stream",
     "text": [
      "/Applications/anaconda3/lib/python3.7/site-packages/pymatgen/io/vasp/outputs.py:910: UserWarning: No POTCAR file with matching TITEL fields was found in /Users/sheren/Documents/2022/psu/221108_mows2/forces/d-001\n",
      "  \" was found in {}\".format(os.path.abspath(p)))\n"
     ]
    }
   ],
   "source": [
    "#Load the vasprun.xml file as a Vasprun object of pymatgen\n",
    "run= Vasprun('forces/d-001/vasprun.xml')"
   ]
  },
  {
   "cell_type": "code",
   "execution_count": 13,
   "metadata": {},
   "outputs": [
    {
     "data": {
      "text/plain": [
       "Structure Summary\n",
       "Lattice\n",
       "    abc : 12.49088671088845 9.367877658753802 13.53164983\n",
       " angles : 90.0 90.0 120.00238683617468\n",
       " volume : 1371.2145606346535\n",
       "      A : 12.49088671 -0.00014898 0.0\n",
       "      B : -4.68418003 8.11268077 0.0\n",
       "      C : 0.0 0.0 13.53164983\n",
       "PeriodicSite: Mo (0.0164, 1.8044, 6.7805) [0.0847, 0.2224, 0.5011]\n",
       "PeriodicSite: Mo (6.2483, 1.8043, 6.7658) [0.5836, 0.2224, 0.5000]\n",
       "PeriodicSite: Mo (-1.5586, 4.5086, 6.7658) [0.0836, 0.5558, 0.5000]\n",
       "PeriodicSite: Mo (4.6869, 4.5085, 6.7658) [0.5836, 0.5558, 0.5000]\n",
       "PeriodicSite: Mo (-3.1199, 7.2128, 6.7658) [0.0836, 0.8891, 0.5000]\n",
       "PeriodicSite: Mo (3.1255, 7.2128, 6.7658) [0.5836, 0.8891, 0.5000]\n",
       "PeriodicSite: W (3.1193, 1.8008, 6.7658) [0.3330, 0.2220, 0.5000]\n",
       "PeriodicSite: W (9.3648, 1.8007, 6.7658) [0.8330, 0.2220, 0.5000]\n",
       "PeriodicSite: W (1.5579, 4.5050, 6.7658) [0.3330, 0.5553, 0.5000]\n",
       "PeriodicSite: W (7.8034, 4.5049, 6.7658) [0.8330, 0.5553, 0.5000]\n",
       "PeriodicSite: W (-0.0035, 7.2092, 6.7658) [0.3330, 0.8886, 0.5000]\n",
       "PeriodicSite: W (6.2420, 7.2092, 6.7658) [0.8330, 0.8886, 0.5000]\n",
       "PeriodicSite: S (1.5602, 0.9007, 8.3213) [0.1665, 0.1110, 0.6149]\n",
       "PeriodicSite: S (7.8056, 0.9006, 8.3213) [0.6665, 0.1110, 0.6149]\n",
       "PeriodicSite: S (-0.0012, 3.6049, 8.3213) [0.1665, 0.4444, 0.6149]\n",
       "PeriodicSite: S (6.2442, 3.6048, 8.3213) [0.6665, 0.4444, 0.6149]\n",
       "PeriodicSite: S (-1.5626, 6.3091, 8.3213) [0.1665, 0.7777, 0.6149]\n",
       "PeriodicSite: S (4.6828, 6.3091, 8.3213) [0.6665, 0.7777, 0.6149]\n",
       "PeriodicSite: S (1.5602, 0.9007, 5.2104) [0.1665, 0.1110, 0.3851]\n",
       "PeriodicSite: S (7.8056, 0.9006, 5.2104) [0.6665, 0.1110, 0.3851]\n",
       "PeriodicSite: S (-0.0012, 3.6049, 5.2104) [0.1665, 0.4444, 0.3851]\n",
       "PeriodicSite: S (6.2442, 3.6048, 5.2104) [0.6665, 0.4444, 0.3851]\n",
       "PeriodicSite: S (-1.5626, 6.3091, 5.2104) [0.1665, 0.7777, 0.3851]\n",
       "PeriodicSite: S (4.6828, 6.3091, 5.2104) [0.6665, 0.7777, 0.3851]\n",
       "PeriodicSite: S (4.6851, 0.9020, 8.3224) [0.4168, 0.1112, 0.6150]\n",
       "PeriodicSite: S (10.9306, 0.9019, 8.3224) [0.9168, 0.1112, 0.6150]\n",
       "PeriodicSite: S (3.1237, 3.6062, 8.3224) [0.4168, 0.4445, 0.6150]\n",
       "PeriodicSite: S (9.3692, 3.6061, 8.3224) [0.9168, 0.4445, 0.6150]\n",
       "PeriodicSite: S (1.5623, 6.3104, 8.3224) [0.4168, 0.7779, 0.6150]\n",
       "PeriodicSite: S (7.8078, 6.3104, 8.3224) [0.9168, 0.7779, 0.6150]\n",
       "PeriodicSite: S (4.6851, 0.9020, 5.2093) [0.4168, 0.1112, 0.3850]\n",
       "PeriodicSite: S (10.9306, 0.9019, 5.2093) [0.9168, 0.1112, 0.3850]\n",
       "PeriodicSite: S (3.1237, 3.6062, 5.2093) [0.4168, 0.4445, 0.3850]\n",
       "PeriodicSite: S (9.3692, 3.6061, 5.2093) [0.9168, 0.4445, 0.3850]\n",
       "PeriodicSite: S (1.5623, 6.3104, 5.2093) [0.4168, 0.7779, 0.3850]\n",
       "PeriodicSite: S (7.8078, 6.3104, 5.2093) [0.9168, 0.7779, 0.3850]"
      ]
     },
     "execution_count": 13,
     "metadata": {},
     "output_type": "execute_result"
    }
   ],
   "source": [
    "# Gives the structure at each ionic step\n",
    "# Since these vasprun.xml files are \n",
    "# from FDM phonon calculations, \n",
    "# this run has only 1 ionic step\n",
    "run.structures[-1]"
   ]
  },
  {
   "cell_type": "code",
   "execution_count": 21,
   "metadata": {},
   "outputs": [
    {
     "data": {
      "text/plain": [
       "Structure Summary\n",
       "Lattice\n",
       "    abc : 12.49088671088845 9.367877658753802 13.53164983\n",
       " angles : 90.0 90.0 120.00238683617468\n",
       " volume : 1371.2145606346535\n",
       "      A : 12.49088671 -0.00014898 0.0\n",
       "      B : -4.68418003 8.11268077 0.0\n",
       "      C : 0.0 0.0 13.53164983\n",
       "PeriodicSite: Mo (0.0164, 1.8044, 6.7805) [0.0847, 0.2224, 0.5011]\n",
       "PeriodicSite: Mo (6.2483, 1.8043, 6.7658) [0.5836, 0.2224, 0.5000]\n",
       "PeriodicSite: Mo (-1.5586, 4.5086, 6.7658) [0.0836, 0.5558, 0.5000]\n",
       "PeriodicSite: Mo (4.6869, 4.5085, 6.7658) [0.5836, 0.5558, 0.5000]\n",
       "PeriodicSite: Mo (-3.1199, 7.2128, 6.7658) [0.0836, 0.8891, 0.5000]\n",
       "PeriodicSite: Mo (3.1255, 7.2128, 6.7658) [0.5836, 0.8891, 0.5000]\n",
       "PeriodicSite: W (3.1193, 1.8008, 6.7658) [0.3330, 0.2220, 0.5000]\n",
       "PeriodicSite: W (9.3648, 1.8007, 6.7658) [0.8330, 0.2220, 0.5000]\n",
       "PeriodicSite: W (1.5579, 4.5050, 6.7658) [0.3330, 0.5553, 0.5000]\n",
       "PeriodicSite: W (7.8034, 4.5049, 6.7658) [0.8330, 0.5553, 0.5000]\n",
       "PeriodicSite: W (-0.0035, 7.2092, 6.7658) [0.3330, 0.8886, 0.5000]\n",
       "PeriodicSite: W (6.2420, 7.2092, 6.7658) [0.8330, 0.8886, 0.5000]\n",
       "PeriodicSite: S (1.5602, 0.9007, 8.3213) [0.1665, 0.1110, 0.6149]\n",
       "PeriodicSite: S (7.8056, 0.9006, 8.3213) [0.6665, 0.1110, 0.6149]\n",
       "PeriodicSite: S (-0.0012, 3.6049, 8.3213) [0.1665, 0.4444, 0.6149]\n",
       "PeriodicSite: S (6.2442, 3.6048, 8.3213) [0.6665, 0.4444, 0.6149]\n",
       "PeriodicSite: S (-1.5626, 6.3091, 8.3213) [0.1665, 0.7777, 0.6149]\n",
       "PeriodicSite: S (4.6828, 6.3091, 8.3213) [0.6665, 0.7777, 0.6149]\n",
       "PeriodicSite: S (1.5602, 0.9007, 5.2104) [0.1665, 0.1110, 0.3851]\n",
       "PeriodicSite: S (7.8056, 0.9006, 5.2104) [0.6665, 0.1110, 0.3851]\n",
       "PeriodicSite: S (-0.0012, 3.6049, 5.2104) [0.1665, 0.4444, 0.3851]\n",
       "PeriodicSite: S (6.2442, 3.6048, 5.2104) [0.6665, 0.4444, 0.3851]\n",
       "PeriodicSite: S (-1.5626, 6.3091, 5.2104) [0.1665, 0.7777, 0.3851]\n",
       "PeriodicSite: S (4.6828, 6.3091, 5.2104) [0.6665, 0.7777, 0.3851]\n",
       "PeriodicSite: S (4.6851, 0.9020, 8.3224) [0.4168, 0.1112, 0.6150]\n",
       "PeriodicSite: S (10.9306, 0.9019, 8.3224) [0.9168, 0.1112, 0.6150]\n",
       "PeriodicSite: S (3.1237, 3.6062, 8.3224) [0.4168, 0.4445, 0.6150]\n",
       "PeriodicSite: S (9.3692, 3.6061, 8.3224) [0.9168, 0.4445, 0.6150]\n",
       "PeriodicSite: S (1.5623, 6.3104, 8.3224) [0.4168, 0.7779, 0.6150]\n",
       "PeriodicSite: S (7.8078, 6.3104, 8.3224) [0.9168, 0.7779, 0.6150]\n",
       "PeriodicSite: S (4.6851, 0.9020, 5.2093) [0.4168, 0.1112, 0.3850]\n",
       "PeriodicSite: S (10.9306, 0.9019, 5.2093) [0.9168, 0.1112, 0.3850]\n",
       "PeriodicSite: S (3.1237, 3.6062, 5.2093) [0.4168, 0.4445, 0.3850]\n",
       "PeriodicSite: S (9.3692, 3.6061, 5.2093) [0.9168, 0.4445, 0.3850]\n",
       "PeriodicSite: S (1.5623, 6.3104, 5.2093) [0.4168, 0.7779, 0.3850]\n",
       "PeriodicSite: S (7.8078, 6.3104, 5.2093) [0.9168, 0.7779, 0.3850]"
      ]
     },
     "execution_count": 21,
     "metadata": {},
     "output_type": "execute_result"
    }
   ],
   "source": [
    "# Gives the final structure\n",
    "run.final_structure"
   ]
  },
  {
   "cell_type": "code",
   "execution_count": 16,
   "metadata": {},
   "outputs": [],
   "source": [
    "#Write the structure into a Poscar file\n",
    "Poscar(run.structures[-1]).write_file('forces/d-001/POSCAR',significant_figures=12)"
   ]
  },
  {
   "cell_type": "code",
   "execution_count": 17,
   "metadata": {},
   "outputs": [
    {
     "data": {
      "text/plain": [
       "-303.89235477"
      ]
     },
     "execution_count": 17,
     "metadata": {},
     "output_type": "execute_result"
    }
   ],
   "source": [
    "run.final_energy"
   ]
  },
  {
   "cell_type": "code",
   "execution_count": 31,
   "metadata": {},
   "outputs": [
    {
     "data": {
      "text/plain": [
       "dict_keys(['ionic_steps', 'final_energy', 'final_energy_per_atom', 'crystal', 'efermi', 'eigenvalues', 'bandgap', 'cbm', 'vbm', 'is_gap_direct', 'epsilon_static', 'epsilon_static_wolfe', 'epsilon_ionic'])"
      ]
     },
     "execution_count": 31,
     "metadata": {},
     "output_type": "execute_result"
    }
   ],
   "source": [
    "run.as_dict()['output'].keys()"
   ]
  },
  {
   "cell_type": "code",
   "execution_count": 25,
   "metadata": {},
   "outputs": [
    {
     "data": {
      "text/plain": [
       "Kpoints from vasprun.xml\n",
       "0\n",
       "Gamma\n",
       "2 3 1"
      ]
     },
     "execution_count": 25,
     "metadata": {},
     "output_type": "execute_result"
    }
   ],
   "source": [
    "# Gives Kpoints of the run\n",
    "run.kpoints"
   ]
  },
  {
   "cell_type": "code",
   "execution_count": 23,
   "metadata": {},
   "outputs": [
    {
     "data": {
      "text/plain": [
       "{'ISTART': 1,\n",
       " 'PREC': 'accurate',\n",
       " 'ALGO': 'Fast',\n",
       " 'ADDGRID': True,\n",
       " 'ISPIN': 2,\n",
       " 'NELM': 100,\n",
       " 'IBRION': -1,\n",
       " 'EDIFF': 1e-08,\n",
       " 'NSW': 0,\n",
       " 'ENCUT': 600.0,\n",
       " 'LREAL': False,\n",
       " 'ISMEAR': 0,\n",
       " 'SIGMA': 0.05,\n",
       " 'LWAVE': False,\n",
       " 'LCHARG': False,\n",
       " 'KPOINT_BSE': [-1, 0, 0, 0]}"
      ]
     },
     "execution_count": 23,
     "metadata": {},
     "output_type": "execute_result"
    }
   ],
   "source": [
    "# Gives Incar of the run\n",
    "run.incar"
   ]
  },
  {
   "cell_type": "code",
   "execution_count": 32,
   "metadata": {},
   "outputs": [
    {
     "data": {
      "text/plain": [
       "dict_keys(['ionic_steps', 'final_energy', 'final_energy_per_atom', 'crystal', 'efermi', 'eigenvalues', 'bandgap', 'cbm', 'vbm', 'is_gap_direct', 'epsilon_static', 'epsilon_static_wolfe', 'epsilon_ionic'])"
      ]
     },
     "execution_count": 32,
     "metadata": {},
     "output_type": "execute_result"
    }
   ],
   "source": [
    "#List all possible keys in the dictionary of outputs\n",
    "run.as_dict()['output'].keys()"
   ]
  },
  {
   "cell_type": "code",
   "execution_count": 33,
   "metadata": {},
   "outputs": [
    {
     "data": {
      "text/plain": [
       "-303.89235477"
      ]
     },
     "execution_count": 33,
     "metadata": {},
     "output_type": "execute_result"
    }
   ],
   "source": [
    "run.as_dict()['output']['final_energy']"
   ]
  },
  {
   "cell_type": "code",
   "execution_count": 45,
   "metadata": {},
   "outputs": [
    {
     "data": {
      "text/plain": [
       "[{'e_fr_energy': -303.89235477,\n",
       "  'e_wo_entrp': -303.89235477,\n",
       "  'e_0_energy': -0.0,\n",
       "  'forces': [[-0.37308668, 0.00374802, -0.43991719],\n",
       "   [0.00548185, 0.00228992, 0.00148348],\n",
       "   [0.00859492, -0.01916881, -0.00702173],\n",
       "   [0.00198228, 0.00275728, 0.00085205],\n",
       "   [0.00897193, 0.01279753, -0.00687678],\n",
       "   [0.00197976, 0.00228146, 0.00083851],\n",
       "   [0.01735346, -0.01330825, -0.00899135],\n",
       "   [0.01474931, 0.01632265, -0.00940257],\n",
       "   [0.00915074, 0.02203111, -0.0086302],\n",
       "   [0.00328113, 0.00238382, 0.00057877],\n",
       "   [0.00410243, 0.00305052, 0.00093592],\n",
       "   [0.00670553, -0.01008478, -0.00896921],\n",
       "   [0.1180325, -0.05703468, 0.1213892],\n",
       "   [0.00051696, -0.00124411, -0.00027916],\n",
       "   [0.02194959, 0.05959866, 0.07424558],\n",
       "   [-0.00012107, -0.00086997, -0.00160646],\n",
       "   [0.00091313, -0.00123608, 0.00075841],\n",
       "   [0.00034635, -0.00023524, -0.00059908],\n",
       "   [0.01263564, 0.00538096, 0.03143735],\n",
       "   [0.0017159, -0.0023111, 0.00259049],\n",
       "   [0.02325684, -0.05741315, 0.07409544],\n",
       "   [0.0001916, -0.00020119, 0.00119363],\n",
       "   [0.0017084, -0.00065709, 0.00396262],\n",
       "   [-6.119e-05, 0.0008701, 0.00259806],\n",
       "   [0.00115887, 0.00017344, -0.0004889],\n",
       "   [0.01150963, -0.0070852, 0.02937564],\n",
       "   [0.00341374, 0.00462085, 0.00414644],\n",
       "   [-0.00140538, -0.00378093, 0.00073909],\n",
       "   [0.00054214, -0.00123519, -0.00050749],\n",
       "   [-0.00657087, -0.0044249, 0.0021352],\n",
       "   [-0.00035847, -7.754e-05, 0.00307193],\n",
       "   [0.10778262, 0.04844512, 0.11692854],\n",
       "   [-0.00169397, 0.0018124, 0.0044466],\n",
       "   [0.00304477, -0.00704951, 0.00684708],\n",
       "   [-0.0004846, -0.00246134, 0.00325441],\n",
       "   [-0.00728978, 0.00131522, 0.00538568]],\n",
       "  'stress': [[-0.2028596, -0.09238734, 0.01136328],\n",
       "   [-0.09238727, -0.16035319, -0.00073662],\n",
       "   [0.01136332, -0.00073664, -0.19998952]],\n",
       "  'electronic_steps': [{'alphaZ': 358.79979963,\n",
       "    'ewald': 15097.91629625,\n",
       "    'hartreedc': -29555.08165811,\n",
       "    'XCdc': 248.63168637,\n",
       "    'pawpsdc': 12940.22726024,\n",
       "    'pawaedc': -12435.65478156,\n",
       "    'eentropy': -0.02162743,\n",
       "    'bandstr': -138.58004977,\n",
       "    'atom': 15621.35913064,\n",
       "    'e_fr_energy': 2137.59605625,\n",
       "    'e_wo_entrp': 2137.61768367,\n",
       "    'e_0_energy': 2137.60686996},\n",
       "   {'e_fr_energy': -74.88222075,\n",
       "    'e_wo_entrp': -74.88222075,\n",
       "    'e_0_energy': -74.88222075},\n",
       "   {'e_fr_energy': -305.09914667,\n",
       "    'e_wo_entrp': -305.09914667,\n",
       "    'e_0_energy': -305.09914667},\n",
       "   {'e_fr_energy': -313.86141203,\n",
       "    'e_wo_entrp': -313.86141203,\n",
       "    'e_0_energy': -313.86141203},\n",
       "   {'e_fr_energy': -314.14841895,\n",
       "    'e_wo_entrp': -314.14841895,\n",
       "    'e_0_energy': -314.14841895},\n",
       "   {'e_fr_energy': -301.54701287,\n",
       "    'e_wo_entrp': -301.54701287,\n",
       "    'e_0_energy': -301.54701287},\n",
       "   {'e_fr_energy': -304.09098998,\n",
       "    'e_wo_entrp': -304.09098998,\n",
       "    'e_0_energy': -304.09098998},\n",
       "   {'e_fr_energy': -303.73494426,\n",
       "    'e_wo_entrp': -303.73494426,\n",
       "    'e_0_energy': -303.73494426},\n",
       "   {'e_fr_energy': -303.34983002,\n",
       "    'e_wo_entrp': -303.34983002,\n",
       "    'e_0_energy': -303.34983002},\n",
       "   {'e_fr_energy': -303.66766398,\n",
       "    'e_wo_entrp': -303.66766398,\n",
       "    'e_0_energy': -303.66766398},\n",
       "   {'e_fr_energy': -303.85654856,\n",
       "    'e_wo_entrp': -303.85654856,\n",
       "    'e_0_energy': -303.85654856},\n",
       "   {'e_fr_energy': -303.87432707,\n",
       "    'e_wo_entrp': -303.87432707,\n",
       "    'e_0_energy': -303.87432707},\n",
       "   {'e_fr_energy': -303.88468448,\n",
       "    'e_wo_entrp': -303.88468448,\n",
       "    'e_0_energy': -303.88468448},\n",
       "   {'e_fr_energy': -303.88534695,\n",
       "    'e_wo_entrp': -303.88534695,\n",
       "    'e_0_energy': -303.88534695},\n",
       "   {'e_fr_energy': -303.88628878,\n",
       "    'e_wo_entrp': -303.88628878,\n",
       "    'e_0_energy': -303.88628878},\n",
       "   {'e_fr_energy': -303.88880922,\n",
       "    'e_wo_entrp': -303.88880922,\n",
       "    'e_0_energy': -303.88880922},\n",
       "   {'e_fr_energy': -303.89082497,\n",
       "    'e_wo_entrp': -303.89082497,\n",
       "    'e_0_energy': -303.89082497},\n",
       "   {'e_fr_energy': -303.89179451,\n",
       "    'e_wo_entrp': -303.89179451,\n",
       "    'e_0_energy': -303.89179451},\n",
       "   {'e_fr_energy': -303.89220947,\n",
       "    'e_wo_entrp': -303.89220947,\n",
       "    'e_0_energy': -303.89220947},\n",
       "   {'e_fr_energy': -303.89229728,\n",
       "    'e_wo_entrp': -303.89229728,\n",
       "    'e_0_energy': -303.89229728},\n",
       "   {'e_fr_energy': -303.89232574,\n",
       "    'e_wo_entrp': -303.89232574,\n",
       "    'e_0_energy': -303.89232574},\n",
       "   {'e_fr_energy': -303.89234286,\n",
       "    'e_wo_entrp': -303.89234286,\n",
       "    'e_0_energy': -303.89234286},\n",
       "   {'e_fr_energy': -303.89234876,\n",
       "    'e_wo_entrp': -303.89234876,\n",
       "    'e_0_energy': -303.89234876},\n",
       "   {'e_fr_energy': -303.89235246,\n",
       "    'e_wo_entrp': -303.89235246,\n",
       "    'e_0_energy': -303.89235246},\n",
       "   {'e_fr_energy': -303.89235405,\n",
       "    'e_wo_entrp': -303.89235405,\n",
       "    'e_0_energy': -303.89235405},\n",
       "   {'e_fr_energy': -303.89235467,\n",
       "    'e_wo_entrp': -303.89235467,\n",
       "    'e_0_energy': -303.89235467},\n",
       "   {'e_fr_energy': -303.89235476,\n",
       "    'e_wo_entrp': -303.89235476,\n",
       "    'e_0_energy': -303.89235476},\n",
       "   {'alphaZ': 358.79979963,\n",
       "    'ewald': 15097.91629625,\n",
       "    'hartreedc': -29611.72786849,\n",
       "    'XCdc': 249.93707623,\n",
       "    'pawpsdc': 29179.0290245,\n",
       "    'pawaedc': -28716.03461175,\n",
       "    'eentropy': -0.0,\n",
       "    'bandstr': -2483.17120178,\n",
       "    'atom': 15621.35913064,\n",
       "    'e_fr_energy': -303.89235477,\n",
       "    'e_wo_entrp': -303.89235477,\n",
       "    'e_0_energy': -303.89235477}],\n",
       "  'structure': Structure Summary\n",
       "  Lattice\n",
       "      abc : 12.49088671088845 9.367877658753802 13.53164983\n",
       "   angles : 90.0 90.0 120.00238683617468\n",
       "   volume : 1371.2145606346535\n",
       "        A : 12.49088671 -0.00014898 0.0\n",
       "        B : -4.68418003 8.11268077 0.0\n",
       "        C : 0.0 0.0 13.53164983\n",
       "  PeriodicSite: Mo (0.0164, 1.8044, 6.7805) [0.0847, 0.2224, 0.5011]\n",
       "  PeriodicSite: Mo (6.2483, 1.8043, 6.7658) [0.5836, 0.2224, 0.5000]\n",
       "  PeriodicSite: Mo (-1.5586, 4.5086, 6.7658) [0.0836, 0.5558, 0.5000]\n",
       "  PeriodicSite: Mo (4.6869, 4.5085, 6.7658) [0.5836, 0.5558, 0.5000]\n",
       "  PeriodicSite: Mo (-3.1199, 7.2128, 6.7658) [0.0836, 0.8891, 0.5000]\n",
       "  PeriodicSite: Mo (3.1255, 7.2128, 6.7658) [0.5836, 0.8891, 0.5000]\n",
       "  PeriodicSite: W (3.1193, 1.8008, 6.7658) [0.3330, 0.2220, 0.5000]\n",
       "  PeriodicSite: W (9.3648, 1.8007, 6.7658) [0.8330, 0.2220, 0.5000]\n",
       "  PeriodicSite: W (1.5579, 4.5050, 6.7658) [0.3330, 0.5553, 0.5000]\n",
       "  PeriodicSite: W (7.8034, 4.5049, 6.7658) [0.8330, 0.5553, 0.5000]\n",
       "  PeriodicSite: W (-0.0035, 7.2092, 6.7658) [0.3330, 0.8886, 0.5000]\n",
       "  PeriodicSite: W (6.2420, 7.2092, 6.7658) [0.8330, 0.8886, 0.5000]\n",
       "  PeriodicSite: S (1.5602, 0.9007, 8.3213) [0.1665, 0.1110, 0.6149]\n",
       "  PeriodicSite: S (7.8056, 0.9006, 8.3213) [0.6665, 0.1110, 0.6149]\n",
       "  PeriodicSite: S (-0.0012, 3.6049, 8.3213) [0.1665, 0.4444, 0.6149]\n",
       "  PeriodicSite: S (6.2442, 3.6048, 8.3213) [0.6665, 0.4444, 0.6149]\n",
       "  PeriodicSite: S (-1.5626, 6.3091, 8.3213) [0.1665, 0.7777, 0.6149]\n",
       "  PeriodicSite: S (4.6828, 6.3091, 8.3213) [0.6665, 0.7777, 0.6149]\n",
       "  PeriodicSite: S (1.5602, 0.9007, 5.2104) [0.1665, 0.1110, 0.3851]\n",
       "  PeriodicSite: S (7.8056, 0.9006, 5.2104) [0.6665, 0.1110, 0.3851]\n",
       "  PeriodicSite: S (-0.0012, 3.6049, 5.2104) [0.1665, 0.4444, 0.3851]\n",
       "  PeriodicSite: S (6.2442, 3.6048, 5.2104) [0.6665, 0.4444, 0.3851]\n",
       "  PeriodicSite: S (-1.5626, 6.3091, 5.2104) [0.1665, 0.7777, 0.3851]\n",
       "  PeriodicSite: S (4.6828, 6.3091, 5.2104) [0.6665, 0.7777, 0.3851]\n",
       "  PeriodicSite: S (4.6851, 0.9020, 8.3224) [0.4168, 0.1112, 0.6150]\n",
       "  PeriodicSite: S (10.9306, 0.9019, 8.3224) [0.9168, 0.1112, 0.6150]\n",
       "  PeriodicSite: S (3.1237, 3.6062, 8.3224) [0.4168, 0.4445, 0.6150]\n",
       "  PeriodicSite: S (9.3692, 3.6061, 8.3224) [0.9168, 0.4445, 0.6150]\n",
       "  PeriodicSite: S (1.5623, 6.3104, 8.3224) [0.4168, 0.7779, 0.6150]\n",
       "  PeriodicSite: S (7.8078, 6.3104, 8.3224) [0.9168, 0.7779, 0.6150]\n",
       "  PeriodicSite: S (4.6851, 0.9020, 5.2093) [0.4168, 0.1112, 0.3850]\n",
       "  PeriodicSite: S (10.9306, 0.9019, 5.2093) [0.9168, 0.1112, 0.3850]\n",
       "  PeriodicSite: S (3.1237, 3.6062, 5.2093) [0.4168, 0.4445, 0.3850]\n",
       "  PeriodicSite: S (9.3692, 3.6061, 5.2093) [0.9168, 0.4445, 0.3850]\n",
       "  PeriodicSite: S (1.5623, 6.3104, 5.2093) [0.4168, 0.7779, 0.3850]\n",
       "  PeriodicSite: S (7.8078, 6.3104, 5.2093) [0.9168, 0.7779, 0.3850]}]"
      ]
     },
     "execution_count": 45,
     "metadata": {},
     "output_type": "execute_result"
    }
   ],
   "source": [
    "# This is a list of ionic steps\n",
    "# Each list element \n",
    "# is a dictionary with data at each step\n",
    "run.ionic_steps"
   ]
  },
  {
   "cell_type": "code",
   "execution_count": 46,
   "metadata": {},
   "outputs": [
    {
     "data": {
      "text/plain": [
       "dict_keys(['e_fr_energy', 'e_wo_entrp', 'e_0_energy', 'forces', 'stress', 'electronic_steps', 'structure'])"
      ]
     },
     "execution_count": 46,
     "metadata": {},
     "output_type": "execute_result"
    }
   ],
   "source": [
    "#Let's look at available data\n",
    "# for the last ionic step\n",
    "run.ionic_steps[-1].keys()"
   ]
  },
  {
   "cell_type": "code",
   "execution_count": 47,
   "metadata": {},
   "outputs": [
    {
     "data": {
      "text/plain": [
       "[[-0.37308668, 0.00374802, -0.43991719],\n",
       " [0.00548185, 0.00228992, 0.00148348],\n",
       " [0.00859492, -0.01916881, -0.00702173],\n",
       " [0.00198228, 0.00275728, 0.00085205],\n",
       " [0.00897193, 0.01279753, -0.00687678],\n",
       " [0.00197976, 0.00228146, 0.00083851],\n",
       " [0.01735346, -0.01330825, -0.00899135],\n",
       " [0.01474931, 0.01632265, -0.00940257],\n",
       " [0.00915074, 0.02203111, -0.0086302],\n",
       " [0.00328113, 0.00238382, 0.00057877],\n",
       " [0.00410243, 0.00305052, 0.00093592],\n",
       " [0.00670553, -0.01008478, -0.00896921],\n",
       " [0.1180325, -0.05703468, 0.1213892],\n",
       " [0.00051696, -0.00124411, -0.00027916],\n",
       " [0.02194959, 0.05959866, 0.07424558],\n",
       " [-0.00012107, -0.00086997, -0.00160646],\n",
       " [0.00091313, -0.00123608, 0.00075841],\n",
       " [0.00034635, -0.00023524, -0.00059908],\n",
       " [0.01263564, 0.00538096, 0.03143735],\n",
       " [0.0017159, -0.0023111, 0.00259049],\n",
       " [0.02325684, -0.05741315, 0.07409544],\n",
       " [0.0001916, -0.00020119, 0.00119363],\n",
       " [0.0017084, -0.00065709, 0.00396262],\n",
       " [-6.119e-05, 0.0008701, 0.00259806],\n",
       " [0.00115887, 0.00017344, -0.0004889],\n",
       " [0.01150963, -0.0070852, 0.02937564],\n",
       " [0.00341374, 0.00462085, 0.00414644],\n",
       " [-0.00140538, -0.00378093, 0.00073909],\n",
       " [0.00054214, -0.00123519, -0.00050749],\n",
       " [-0.00657087, -0.0044249, 0.0021352],\n",
       " [-0.00035847, -7.754e-05, 0.00307193],\n",
       " [0.10778262, 0.04844512, 0.11692854],\n",
       " [-0.00169397, 0.0018124, 0.0044466],\n",
       " [0.00304477, -0.00704951, 0.00684708],\n",
       " [-0.0004846, -0.00246134, 0.00325441],\n",
       " [-0.00728978, 0.00131522, 0.00538568]]"
      ]
     },
     "execution_count": 47,
     "metadata": {},
     "output_type": "execute_result"
    }
   ],
   "source": [
    "# Get the forces on each atom\n",
    "# at the last ionic step\n",
    "run.ionic_steps[-1]['forces']"
   ]
  },
  {
   "cell_type": "code",
   "execution_count": null,
   "metadata": {},
   "outputs": [],
   "source": []
  }
 ],
 "metadata": {
  "kernelspec": {
   "display_name": "Python 3",
   "language": "python",
   "name": "python3"
  },
  "language_info": {
   "codemirror_mode": {
    "name": "ipython",
    "version": 3
   },
   "file_extension": ".py",
   "mimetype": "text/x-python",
   "name": "python",
   "nbconvert_exporter": "python",
   "pygments_lexer": "ipython3",
   "version": "3.7.6"
  }
 },
 "nbformat": 4,
 "nbformat_minor": 4
}
